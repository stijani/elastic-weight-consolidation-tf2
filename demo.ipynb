{
 "cells": [
  {
   "cell_type": "code",
   "execution_count": 1,
   "metadata": {},
   "outputs": [
    {
     "name": "stdout",
     "output_type": "stream",
     "text": [
      "env: CUDA_VISIBLE_DEVICES=3\n"
     ]
    }
   ],
   "source": [
    "from tensorflow.keras.layers import Dense\n",
    "from tensorflow.keras.datasets import mnist\n",
    "from tensorflow.keras.models import Sequential\n",
    "import numpy as np\n",
    "import matplotlib.pyplot as plt\n",
    "import tensorflow as tf\n",
    "import numpy as np\n",
    "from tqdm import tqdm\n",
    "from module import MLP3, Train, EWC, evaluate, permute_task\n",
    "\n",
    "%env CUDA_VISIBLE_DEVICES=3"
   ]
  },
  {
   "cell_type": "code",
   "execution_count": 2,
   "metadata": {},
   "outputs": [],
   "source": [
    "epochs = 100\n",
    "lambda_ = 0.1 \n",
    "lr = 0.001\n",
    "num_sample = 30\n",
    "opt = tf.keras.optimizers.Adam(learning_rate=lr)\n",
    "loss_fn=tf.keras.losses.SparseCategoricalCrossentropy(from_logits=True)"
   ]
  },
  {
   "cell_type": "markdown",
   "metadata": {},
   "source": [
    "**Task Preparation**"
   ]
  },
  {
   "cell_type": "code",
   "execution_count": 3,
   "metadata": {},
   "outputs": [],
   "source": [
    "(x_train_A, y_train_A), (x_test_A, y_test_A) = mnist.load_data()\n",
    "x_train_A = x_train_A.astype('float32')\n",
    "x_test_A = x_test_A.astype('float32')\n",
    "x_train_A /= 255\n",
    "x_test_A /= 255\n",
    "\n",
    "train_A = tf.data.Dataset.from_tensor_slices((x_train_A, y_train_A)).shuffle(1000).batch(32)\n",
    "test_A = (x_test_A, y_test_A)\n",
    "\n",
    "x_train_B, x_test_B = permute_task(x_train_A, x_test_A)\n",
    "y_train_B, y_test_B = y_train_A, y_test_A\n",
    "\n",
    "train_B = tf.data.Dataset.from_tensor_slices((x_train_B, y_train_B)).shuffle(1000).batch(32)\n",
    "test_B = (x_test_B, y_test_B)"
   ]
  },
  {
   "cell_type": "markdown",
   "metadata": {},
   "source": [
    "**Display sample data points**"
   ]
  },
  {
   "cell_type": "code",
   "execution_count": 4,
   "metadata": {},
   "outputs": [
    {
     "data": {
      "image/png": "[encoded data removed]",
      "text/plain": [
       "<Figure size 432x288 with 2 Axes>"
      ]
     },
     "metadata": {
      "needs_background": "light"
     },
     "output_type": "display_data"
    }
   ],
   "source": [
    "plt.figure()\n",
    "plt.subplot(1, 2, 1)\n",
    "plt.imshow(x_train_A[200], cmap='gray')\n",
    "plt.title('Task A')\n",
    "plt.axis('off')\n",
    "plt.subplot(1, 2, 2)\n",
    "plt.imshow(x_train_B[200], cmap='gray')\n",
    "plt.title('Task B')\n",
    "plt.axis('off')\n",
    "plt.show()"
   ]
  },
  {
   "cell_type": "markdown",
   "metadata": {},
   "source": [
    "**Create a model object**"
   ]
  },
  {
   "cell_type": "code",
   "execution_count": 5,
   "metadata": {},
   "outputs": [],
   "source": [
    "mlp = MLP3()"
   ]
  },
  {
   "cell_type": "markdown",
   "metadata": {},
   "source": [
    "**GD Training of Task - A**"
   ]
  },
  {
   "cell_type": "code",
   "execution_count": 6,
   "metadata": {},
   "outputs": [
    {
     "name": "stderr",
     "output_type": "stream",
     "text": [
      "\r",
      "  0%|          | 0/100 [00:00<?, ?it/s]"
     ]
    },
    {
     "name": "stdout",
     "output_type": "stream",
     "text": [
      "WARNING:tensorflow:AutoGraph could not transform <bound method Layer.__call__ of <tensorflow.python.keras.engine.sequential.Sequential object at 0x7fbfbb0ec950>> and will run it as-is.\n",
      "Please report this to the TensorFlow team. When filing the bug, set the verbosity to 10 (on Linux, `export AUTOGRAPH_VERBOSITY=10`) and attach the full output.\n",
      "Cause: module 'gast' has no attribute 'Num'\n",
      "WARNING: AutoGraph could not transform <bound method Layer.__call__ of <tensorflow.python.keras.engine.sequential.Sequential object at 0x7fbfbb0ec950>> and will run it as-is.\n",
      "Please report this to the TensorFlow team. When filing the bug, set the verbosity to 10 (on Linux, `export AUTOGRAPH_VERBOSITY=10`) and attach the full output.\n",
      "Cause: module 'gast' has no attribute 'Num'\n"
     ]
    },
    {
     "name": "stderr",
     "output_type": "stream",
     "text": [
      "100%|██████████| 100/100 [48:22<00:00, 29.03s/it]"
     ]
    },
    {
     "name": "stdout",
     "output_type": "stream",
     "text": [
      "[INFO] Task A Original (SGD): 98.28\n"
     ]
    },
    {
     "name": "stderr",
     "output_type": "stream",
     "text": [
      "\n"
     ]
    }
   ],
   "source": [
    "trn_gd = Train(opt, loss_fn)\n",
    "model = mlp.get_compiled_model(opt, loss_fn, ['accuracy'])\n",
    "\n",
    "acc_prior_A = trn_gd.train(model, epochs, train_A, test_tasks=[test_A])[0]\n",
    "model.save('MNIST_A.h5')\n",
    "print('[INFO] Task A Original (SGD): {}'.format(acc_prior_A[-1]))"
   ]
  },
  {
   "cell_type": "markdown",
   "metadata": {},
   "source": [
    "**Fisher matrix computation using the weights obtained from training task A to criterion**"
   ]
  },
  {
   "cell_type": "code",
   "execution_count": 7,
   "metadata": {},
   "outputs": [
    {
     "name": "stderr",
     "output_type": "stream",
     "text": [
      "100%|██████████| 30/30 [00:00<00:00, 261.46it/s]\n"
     ]
    }
   ],
   "source": [
    "# construct the fisher matrix using samples from task A\n",
    "ewc = EWC(model, x_train_A, num_sample=num_sample)\n",
    "f_matrix = ewc.get_fisher()"
   ]
  },
  {
   "cell_type": "markdown",
   "metadata": {},
   "source": [
    "**Training task B with EWC - using the computed Fisher matrix from task A and the prior weights obtained from A**"
   ]
  },
  {
   "cell_type": "code",
   "execution_count": 8,
   "metadata": {},
   "outputs": [],
   "source": [
    "model_ewcB = mlp.get_compiled_model(opt, loss_fn, ['accuracy'])\n",
    "model_ewcB.load_weights('MNIST_A.h5')\n",
    "prior_weights = model_ewcB.get_weights()"
   ]
  },
  {
   "cell_type": "code",
   "execution_count": 9,
   "metadata": {},
   "outputs": [
    {
     "name": "stderr",
     "output_type": "stream",
     "text": [
      "100%|██████████| 100/100 [1:38:09<00:00, 58.89s/it]"
     ]
    },
    {
     "name": "stdout",
     "output_type": "stream",
     "text": [
      "[INFO] Task A ACC. after training B with EWC: 96.07\n",
      "[INFO] Task B ACC. after training B with EWC: 97.72\n"
     ]
    },
    {
     "name": "stderr",
     "output_type": "stream",
     "text": [
      "\n"
     ]
    }
   ],
   "source": [
    "trn = Train(opt, loss_fn, prior_weights=prior_weights, lambda_=lambda_)\n",
    "acc_ewcA, acc_ewcB = trn.train(model_ewcB, \n",
    "                     epochs, \n",
    "                     train_B, \n",
    "                     fisher_matrix=f_matrix, \n",
    "                     test_tasks=[test_A, test_B]\n",
    "                    )\n",
    "\n",
    "print('[INFO] Task A ACC. after training B with EWC: {}'.format(acc_ewcA[-1]))\n",
    "print('[INFO] Task B ACC. after training B with EWC: {}'.format(acc_ewcB[-1]))"
   ]
  },
  {
   "cell_type": "markdown",
   "metadata": {},
   "source": [
    "**Training task B with vannila SGD**"
   ]
  },
  {
   "cell_type": "code",
   "execution_count": 10,
   "metadata": {},
   "outputs": [
    {
     "name": "stderr",
     "output_type": "stream",
     "text": [
      "100%|██████████| 100/100 [1:15:24<00:00, 45.24s/it]"
     ]
    },
    {
     "name": "stdout",
     "output_type": "stream",
     "text": [
      "[INFO] Task A ACC. after training B with GD: 70.53\n",
      "[INFO] Task B ACC. after training B with GD: 97.82\n"
     ]
    },
    {
     "name": "stderr",
     "output_type": "stream",
     "text": [
      "\n"
     ]
    }
   ],
   "source": [
    "model_sgdB = mlp.get_compiled_model(opt, loss_fn, ['accuracy'])\n",
    "model_sgdB.load_weights('MNIST_A.h5')\n",
    "acc_sgdA, acc_sgdB = trn_gd.train(model_sgdB, epochs, train_B, test_tasks = [test_A, test_B])\n",
    "\n",
    "print('[INFO] Task A ACC. after training B with GD: {}'.format(acc_sgdA[-1]))\n",
    "print('[INFO] Task B ACC. after training B with GD: {}'.format(acc_sgdB[-1]))"
   ]
  },
  {
   "cell_type": "markdown",
   "metadata": {},
   "source": [
    "**Bar plots**"
   ]
  },
  {
   "cell_type": "code",
   "execution_count": 11,
   "metadata": {},
   "outputs": [
    {
     "data": {
      "image/png": "[encoded data removed]",
      "text/plain": [
       "<Figure size 432x288 with 1 Axes>"
      ]
     },
     "metadata": {},
     "output_type": "display_data"
    }
   ],
   "source": [
    "x = 0\n",
    "total_width, n = 0.1, 2\n",
    "width = total_width / n\n",
    "x = x - (total_width - width) / 2\n",
    "plt.style.use('ggplot')\n",
    "plt.bar(x, acc_ewcB[-1], width=width, label='EWC B', hatch='w/', ec='w')\n",
    "plt.bar(x + width, acc_sgdB[-1], width=width, label='SGD B', hatch='w/', ec='w')\n",
    "plt.bar(x + 3.5 * width, acc_prior_A[-1], width=width, label='Prior A', hatch='w/', ec='w')\n",
    "plt.bar(x + 4.5 * width, acc_ewcA[-1], width=width, label='EWC A', hatch='w/', ec='w')\n",
    "plt.bar(x + 5.5 * width, acc_sgdA[-1], width=width, label='SGD A', hatch='w/', ec='w')\n",
    "plt.legend(facecolor='white', loc='lower left')\n",
    "plt.xticks(np.array([0., 3.5 * width]), ('Task B', 'Task A'))\n",
    "plt.title('Training task B with EWC Vs SGD after \\n task A had been trained to criterion')\n",
    "plt.xlim(-0.15, 0.35)\n",
    "plt.ylim(0., 105.)\n",
    "plt.show()"
   ]
  },
  {
   "cell_type": "markdown",
   "metadata": {},
   "source": [
    "**Line plots**"
   ]
  },
  {
   "cell_type": "code",
   "execution_count": 14,
   "metadata": {},
   "outputs": [
    {
     "data": {
      "text/plain": [
       "Text(0.5, 0, 'Epochs')"
      ]
     },
     "execution_count": 14,
     "metadata": {},
     "output_type": "execute_result"
    },
    {
     "data": {
      "image/png": "[encoded data removed]",
      "text/plain": [
       "<Figure size 432x288 with 1 Axes>"
      ]
     },
     "metadata": {},
     "output_type": "display_data"
    }
   ],
   "source": [
    "\n",
    "plt.plot(range(0, epochs*2, 1), (acc_prior_A + acc_sgdA), color='green', linestyle='dashed', label = \"SGD\")\n",
    "plt.plot(range(0, epochs*2, 1), (acc_prior_A + acc_ewcA), color='red', linestyle='dashed', label = \"EWC\")\n",
    "plt.plot(range(0, epochs, 1), (acc_prior_A), color='blue', label = \"Prior\")\n",
    "#plt.axvline(x=9, linestyle='dashed', color='green')\n",
    "plt.xticks(range(0, epochs*2, 50))\n",
    "plt.title('Training task B with EWC Vs SGD after \\n task A had been trained to criterion')\n",
    "plt.legend(facecolor='white')\n",
    "plt.ylabel('Test accuracy A')\n",
    "plt.xlabel('Epochs')"
   ]
  },
  {
   "cell_type": "code",
   "execution_count": null,
   "metadata": {},
   "outputs": [],
   "source": []
  }
 ],
 "metadata": {
  "kernelspec": {
   "display_name": "tensorflow-gpu-2-admin",
   "language": "python",
   "name": "tensorflow-gpu-2-admin"
  },
  "language_info": {
   "codemirror_mode": {
    "name": "ipython",
    "version": 3
   },
   "file_extension": ".py",
   "mimetype": "text/x-python",
   "name": "python",
   "nbconvert_exporter": "python",
   "pygments_lexer": "ipython3",
   "version": "3.7.7"
  }
 },
 "nbformat": 4,
 "nbformat_minor": 2
}
