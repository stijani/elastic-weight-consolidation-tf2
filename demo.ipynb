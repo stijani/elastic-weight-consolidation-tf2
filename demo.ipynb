{
 "cells": [
  {
   "cell_type": "code",
   "execution_count": 1,
   "metadata": {},
   "outputs": [
    {
     "name": "stdout",
     "output_type": "stream",
     "text": [
      "env: CUDA_VISIBLE_DEVICES=4\n"
     ]
    }
   ],
   "source": [
    "from tensorflow.keras.layers import Dense\n",
    "from tensorflow.keras.datasets import mnist\n",
    "from tensorflow.keras.models import Sequential\n",
    "import numpy as np\n",
    "import matplotlib.pyplot as plt\n",
    "import tensorflow as tf\n",
    "import numpy as np\n",
    "from tqdm import tqdm\n",
    "from module import MLP3, Train, EWC, evaluate, permute_task\n",
    "%env CUDA_VISIBLE_DEVICES=4"
   ]
  },
  {
   "cell_type": "code",
   "execution_count": 2,
   "metadata": {},
   "outputs": [],
   "source": [
    "epochs = 10\n",
    "lambda_ = 0.1 \n",
    "lr = 0.001\n",
    "num_sample = 30\n",
    "opt = tf.keras.optimizers.Adam(learning_rate=lr)\n",
    "loss_fn=tf.keras.losses.SparseCategoricalCrossentropy(from_logits=True)"
   ]
  },
  {
   "cell_type": "markdown",
   "metadata": {},
   "source": [
    "**Task Preparation**"
   ]
  },
  {
   "cell_type": "code",
   "execution_count": 3,
   "metadata": {},
   "outputs": [],
   "source": [
    "(x_train_A, y_train_A), (x_test_A, y_test_A) = mnist.load_data()\n",
    "x_train_A = x_train_A.astype('float32')\n",
    "x_test_A = x_test_A.astype('float32')\n",
    "x_train_A /= 255\n",
    "x_test_A /= 255\n",
    "\n",
    "train_A = tf.data.Dataset.from_tensor_slices((x_train_A, y_train_A)).shuffle(1000).batch(32)\n",
    "test_A = (x_test_A, y_test_A)\n",
    "\n",
    "x_train_B, x_test_B = permute_task(x_train_A, x_test_A)\n",
    "y_train_B, y_test_B = y_train_A, y_test_A\n",
    "\n",
    "train_B = tf.data.Dataset.from_tensor_slices((x_train_B, y_train_B)).shuffle(1000).batch(32)\n",
    "test_B = (x_test_B, y_test_B)"
   ]
  },
  {
   "cell_type": "markdown",
   "metadata": {},
   "source": [
    "**Display sample data points**"
   ]
  },
  {
   "cell_type": "code",
   "execution_count": 4,
   "metadata": {},
   "outputs": [
    {
     "data": {
      "image/png": "[encoded data removed]",
      "text/plain": [
       "<Figure size 432x288 with 2 Axes>"
      ]
     },
     "metadata": {
      "needs_background": "light"
     },
     "output_type": "display_data"
    }
   ],
   "source": [
    "plt.figure()\n",
    "plt.subplot(1, 2, 1)\n",
    "plt.imshow(x_train_A[200], cmap='gray')\n",
    "plt.title('Task A')\n",
    "plt.axis('off')\n",
    "plt.subplot(1, 2, 2)\n",
    "plt.imshow(x_train_B[200], cmap='gray')\n",
    "plt.title('Task B')\n",
    "plt.axis('off')\n",
    "plt.show()"
   ]
  },
  {
   "cell_type": "markdown",
   "metadata": {},
   "source": [
    "**Create a model a training objects**"
   ]
  },
  {
   "cell_type": "code",
   "execution_count": 5,
   "metadata": {},
   "outputs": [],
   "source": [
    "mlp = MLP3()\n",
    "trn = Train(opt, loss_fn)"
   ]
  },
  {
   "cell_type": "markdown",
   "metadata": {},
   "source": [
    "**SGD Training of Task - A**"
   ]
  },
  {
   "cell_type": "code",
   "execution_count": 6,
   "metadata": {},
   "outputs": [
    {
     "name": "stderr",
     "output_type": "stream",
     "text": [
      "\r",
      "  0%|          | 0/10 [00:00<?, ?it/s]"
     ]
    },
    {
     "name": "stdout",
     "output_type": "stream",
     "text": [
      "WARNING:tensorflow:AutoGraph could not transform <bound method Layer.__call__ of <tensorflow.python.keras.engine.sequential.Sequential object at 0x7f730776f7d0>> and will run it as-is.\n",
      "Please report this to the TensorFlow team. When filing the bug, set the verbosity to 10 (on Linux, `export AUTOGRAPH_VERBOSITY=10`) and attach the full output.\n",
      "Cause: module 'gast' has no attribute 'Num'\n",
      "WARNING: AutoGraph could not transform <bound method Layer.__call__ of <tensorflow.python.keras.engine.sequential.Sequential object at 0x7f730776f7d0>> and will run it as-is.\n",
      "Please report this to the TensorFlow team. When filing the bug, set the verbosity to 10 (on Linux, `export AUTOGRAPH_VERBOSITY=10`) and attach the full output.\n",
      "Cause: module 'gast' has no attribute 'Num'\n"
     ]
    },
    {
     "name": "stderr",
     "output_type": "stream",
     "text": [
      "100%|██████████| 10/10 [04:44<00:00, 28.47s/it]\n"
     ]
    },
    {
     "name": "stdout",
     "output_type": "stream",
     "text": [
      "[INFO] Task A Original (SGD): 97.58\n"
     ]
    }
   ],
   "source": [
    "model = mlp.get_compiled_model(opt, loss_fn, ['accuracy'])\n",
    "acc_orig, _ = trn.train_sgd(model, epochs, train_A, test_A)\n",
    "model.save('MNIST_A.h5')\n",
    "print('[INFO] Task A Original (SGD): {}'.format(evaluate(model, x_test_A, y_test_A)))"
   ]
  },
  {
   "cell_type": "markdown",
   "metadata": {},
   "source": [
    "**Fisher matrix computation using trained weights**"
   ]
  },
  {
   "cell_type": "code",
   "execution_count": 7,
   "metadata": {},
   "outputs": [
    {
     "name": "stderr",
     "output_type": "stream",
     "text": [
      "100%|██████████| 30/30 [00:00<00:00, 263.33it/s]\n"
     ]
    }
   ],
   "source": [
    "ewc = EWC(model, x_train_A, lambda_, num_sample=30)\n",
    "f_matrix = ewc.get_fisher()"
   ]
  },
  {
   "cell_type": "markdown",
   "metadata": {},
   "source": [
    "**Training task B with EWC - using the computed Fisher matrix from task A**"
   ]
  },
  {
   "cell_type": "code",
   "execution_count": 8,
   "metadata": {},
   "outputs": [
    {
     "name": "stderr",
     "output_type": "stream",
     "text": [
      "100%|██████████| 10/10 [09:52<00:00, 59.28s/it]\n"
     ]
    },
    {
     "name": "stdout",
     "output_type": "stream",
     "text": [
      "[INFO] Task A after training B with EWC: 97.04\n"
     ]
    }
   ],
   "source": [
    "model_ewcB = mlp.get_compiled_model(opt, loss_fn, ['accuracy'])\n",
    "model_ewcB.load_weights('MNIST_A.h5')\n",
    "prior_weights = model_ewcB.get_weights()\n",
    "\n",
    "acc_ewcA, acc_ewcB = trn.train_ewc(model_ewcB, \n",
    "                                   prior_weights, \n",
    "                                   lambda_, \n",
    "                                   f_matrix, \n",
    "                                   epochs, \n",
    "                                   train_B, \n",
    "                                   test_A, \n",
    "                                   test_B\n",
    "                                  )\n",
    "print('[INFO] Task A after training B with EWC: {}'.format(evaluate(model_ewcB, x_test_A, y_test_A)))"
   ]
  },
  {
   "cell_type": "markdown",
   "metadata": {},
   "source": [
    "**Training task B with vannila SGD**"
   ]
  },
  {
   "cell_type": "code",
   "execution_count": 9,
   "metadata": {},
   "outputs": [
    {
     "name": "stderr",
     "output_type": "stream",
     "text": [
      "100%|██████████| 10/10 [07:35<00:00, 45.57s/it]\n"
     ]
    },
    {
     "name": "stdout",
     "output_type": "stream",
     "text": [
      "[INFO] Task A After Training B With SGD: 71.19\n"
     ]
    }
   ],
   "source": [
    "model_sgdB = mlp.get_compiled_model(opt, loss_fn, ['accuracy'])\n",
    "model_sgdB.load_weights('MNIST_A.h5')\n",
    "acc_sgdA, acc_sgdB = trn.train_sgd(model_sgdB, epochs, train_B, test_A, test_B)\n",
    "\n",
    "print('[INFO] Task A After Training B With SGD: {}'.format(evaluate(model_sgdB, x_test_A, y_test_A)))"
   ]
  },
  {
   "cell_type": "markdown",
   "metadata": {},
   "source": [
    "**Bar plots**"
   ]
  },
  {
   "cell_type": "code",
   "execution_count": 11,
   "metadata": {},
   "outputs": [
    {
     "data": {
      "image/png": "[encoded data removed]",
      "text/plain": [
       "<Figure size 432x288 with 1 Axes>"
      ]
     },
     "metadata": {},
     "output_type": "display_data"
    }
   ],
   "source": [
    "x = 0\n",
    "total_width, n = 0.1, 2\n",
    "width = total_width / n\n",
    "x = x - (total_width - width) / 2\n",
    "plt.style.use('ggplot')\n",
    "plt.bar(x, acc_ewcB[-1], width=width, label='EWC B', hatch='w/', ec='w')\n",
    "plt.bar(x + width, acc_sgdB[-1], width=width, label='SGD B', hatch='w/', ec='w')\n",
    "plt.bar(x + 3.5 * width, acc_orig[-1], width=width, label='Prior A', hatch='w/', ec='w')\n",
    "plt.bar(x + 4.5 * width, acc_ewcA[-1], width=width, label='EWC A', hatch='w/', ec='w')\n",
    "plt.bar(x + 5.5 * width, acc_sgdA[-1], width=width, label='SGD A', hatch='w/', ec='w')\n",
    "plt.legend(facecolor='white', loc='lower left')\n",
    "plt.xticks(np.array([0., 3.5 * width]), ('Task B', 'Task A'))\n",
    "plt.title('Training task B with EWC Vs SGD after \\n task A had been trained to criterion')\n",
    "plt.xlim(-0.15, 0.35)\n",
    "plt.ylim(0., 105.)\n",
    "plt.show()"
   ]
  },
  {
   "cell_type": "markdown",
   "metadata": {},
   "source": [
    "**Line plots**"
   ]
  },
  {
   "cell_type": "code",
   "execution_count": 23,
   "metadata": {},
   "outputs": [
    {
     "data": {
      "text/plain": [
       "Text(0.5, 0, 'Epochs')"
      ]
     },
     "execution_count": 23,
     "metadata": {},
     "output_type": "execute_result"
    },
    {
     "data": {
      "image/png": "[encoded data removed]",
      "text/plain": [
       "<Figure size 432x288 with 1 Axes>"
      ]
     },
     "metadata": {},
     "output_type": "display_data"
    }
   ],
   "source": [
    "\n",
    "plt.plot(range(0, 20, 1), (acc_orig + acc_sgdA), color='green', linestyle='dashed', label = \"SGD\")\n",
    "plt.plot(range(0, 20, 1), (acc_orig + acc_ewcA), color='red', linestyle='dashed', label = \"EWC\")\n",
    "plt.plot(range(0, 10, 1), (acc_orig), color='blue', label = \"Prior\")\n",
    "#plt.axvline(x=9, linestyle='dashed', color='green')\n",
    "plt.xticks(range(0, 20, 5))\n",
    "plt.title('Training task B with EWC Vs SGD after \\n task A had been trained to criterion')\n",
    "plt.legend(facecolor='white')\n",
    "plt.ylabel('Test accuracy A')\n",
    "plt.xlabel('Epochs')"
   ]
  },
  {
   "cell_type": "code",
   "execution_count": null,
   "metadata": {},
   "outputs": [],
   "source": []
  }
 ],
 "metadata": {
  "kernelspec": {
   "display_name": "tensorflow-gpu-2-admin",
   "language": "python",
   "name": "tensorflow-gpu-2-admin"
  },
  "language_info": {
   "codemirror_mode": {
    "name": "ipython",
    "version": 3
   },
   "file_extension": ".py",
   "mimetype": "text/x-python",
   "name": "python",
   "nbconvert_exporter": "python",
   "pygments_lexer": "ipython3",
   "version": "3.7.7"
  }
 },
 "nbformat": 4,
 "nbformat_minor": 2
}
